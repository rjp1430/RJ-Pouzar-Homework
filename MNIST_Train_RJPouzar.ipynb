{
  "nbformat": 4,
  "nbformat_minor": 0,
  "metadata": {
    "colab": {
      "provenance": []
    },
    "kernelspec": {
      "name": "python3",
      "display_name": "Python 3"
    },
    "language_info": {
      "name": "python"
    }
  },
  "cells": [
    {
      "cell_type": "code",
      "execution_count": 1,
      "metadata": {
        "colab": {
          "base_uri": "https://localhost:8080/"
        },
        "id": "LrgA2fzKyjlh",
        "outputId": "d9855e76-5c78-4e17-fea5-50a724f65816",
        "collapsed": true
      },
      "outputs": [
        {
          "output_type": "stream",
          "name": "stdout",
          "text": [
            "Mounted at /content/drive\n"
          ]
        }
      ],
      "source": [
        "#Connect Google Drive to colab\n",
        "from google.colab import drive\n",
        "drive.mount('/content/drive')"
      ]
    },
    {
      "cell_type": "code",
      "source": [
        "#Connecting kaggle so dataset can be downloaded\n",
        "!pip install kaggle\n",
        "!mkdir ~/.kaggle\n",
        "!cp kaggle.json ~/.kaggle/\n",
        "!chmod 600 ~/.kaggle/kaggle.json"
      ],
      "metadata": {
        "colab": {
          "base_uri": "https://localhost:8080/"
        },
        "id": "7CmQw6sJzmco",
        "outputId": "d884b765-f1f4-463c-cbb8-e4509f540d98",
        "collapsed": true
      },
      "execution_count": 2,
      "outputs": [
        {
          "output_type": "stream",
          "name": "stdout",
          "text": [
            "Requirement already satisfied: kaggle in /usr/local/lib/python3.10/dist-packages (1.6.17)\n",
            "Requirement already satisfied: six>=1.10 in /usr/local/lib/python3.10/dist-packages (from kaggle) (1.16.0)\n",
            "Requirement already satisfied: certifi>=2023.7.22 in /usr/local/lib/python3.10/dist-packages (from kaggle) (2024.8.30)\n",
            "Requirement already satisfied: python-dateutil in /usr/local/lib/python3.10/dist-packages (from kaggle) (2.8.2)\n",
            "Requirement already satisfied: requests in /usr/local/lib/python3.10/dist-packages (from kaggle) (2.32.3)\n",
            "Requirement already satisfied: tqdm in /usr/local/lib/python3.10/dist-packages (from kaggle) (4.66.5)\n",
            "Requirement already satisfied: python-slugify in /usr/local/lib/python3.10/dist-packages (from kaggle) (8.0.4)\n",
            "Requirement already satisfied: urllib3 in /usr/local/lib/python3.10/dist-packages (from kaggle) (2.2.3)\n",
            "Requirement already satisfied: bleach in /usr/local/lib/python3.10/dist-packages (from kaggle) (6.1.0)\n",
            "Requirement already satisfied: webencodings in /usr/local/lib/python3.10/dist-packages (from bleach->kaggle) (0.5.1)\n",
            "Requirement already satisfied: text-unidecode>=1.3 in /usr/local/lib/python3.10/dist-packages (from python-slugify->kaggle) (1.3)\n",
            "Requirement already satisfied: charset-normalizer<4,>=2 in /usr/local/lib/python3.10/dist-packages (from requests->kaggle) (3.3.2)\n",
            "Requirement already satisfied: idna<4,>=2.5 in /usr/local/lib/python3.10/dist-packages (from requests->kaggle) (3.10)\n",
            "cp: cannot stat 'kaggle.json': No such file or directory\n",
            "chmod: cannot access '/root/.kaggle/kaggle.json': No such file or directory\n"
          ]
        }
      ]
    },
    {
      "cell_type": "code",
      "source": [
        "#Downloading the Dataset\n",
        "! kaggle datasets download hojjatk/mnist-dataset"
      ],
      "metadata": {
        "colab": {
          "base_uri": "https://localhost:8080/"
        },
        "id": "nR_B6j7S1siq",
        "outputId": "5a5ed920-dc7d-4560-aa42-e4c0aff6d4ca",
        "collapsed": true
      },
      "execution_count": 3,
      "outputs": [
        {
          "output_type": "stream",
          "name": "stdout",
          "text": [
            "Dataset URL: https://www.kaggle.com/datasets/hojjatk/mnist-dataset\n",
            "License(s): copyright-authors\n",
            "Downloading mnist-dataset.zip to /content\n",
            " 50% 11.0M/22.0M [00:00<00:00, 114MB/s]\n",
            "100% 22.0M/22.0M [00:00<00:00, 142MB/s]\n"
          ]
        }
      ]
    },
    {
      "cell_type": "code",
      "source": [
        "#Unpackaging the dataset folder\n",
        "!unzip mnist-dataset.zip"
      ],
      "metadata": {
        "colab": {
          "base_uri": "https://localhost:8080/"
        },
        "id": "gih2242314oe",
        "outputId": "676dbde7-e419-4270-91f3-3ebf46dcb314",
        "collapsed": true
      },
      "execution_count": 4,
      "outputs": [
        {
          "output_type": "stream",
          "name": "stdout",
          "text": [
            "Archive:  mnist-dataset.zip\n",
            "  inflating: t10k-images-idx3-ubyte/t10k-images-idx3-ubyte  \n",
            "  inflating: t10k-images.idx3-ubyte  \n",
            "  inflating: t10k-labels-idx1-ubyte/t10k-labels-idx1-ubyte  \n",
            "  inflating: t10k-labels.idx1-ubyte  \n",
            "  inflating: train-images-idx3-ubyte/train-images-idx3-ubyte  \n",
            "  inflating: train-images.idx3-ubyte  \n",
            "  inflating: train-labels-idx1-ubyte/train-labels-idx1-ubyte  \n",
            "  inflating: train-labels.idx1-ubyte  \n"
          ]
        }
      ]
    },
    {
      "cell_type": "code",
      "source": [
        "#Function unpackages a pickle folder\n",
        "def unpickle(file):\n",
        "    import pickle\n",
        "    with open(file, 'rb') as fo:\n",
        "        dict = pickle.load(fo, encoding='bytes')\n",
        "    return dict"
      ],
      "metadata": {
        "id": "S81LWG1i2anY"
      },
      "execution_count": 5,
      "outputs": []
    },
    {
      "cell_type": "code",
      "source": [
        "#Converts a Ubyte file to a list\n",
        "def read_ubyte_file_to_list(filename):\n",
        "  \"\"\"Reads a ubyte file and returns its content as a list of integers.\n",
        "\n",
        "  Args:\n",
        "    filename: The path to the ubyte file.\n",
        "\n",
        "  Returns:\n",
        "    A list of integers representing the content of the ubyte file.\n",
        "  \"\"\"\n",
        "  with open(filename, 'rb') as f:\n",
        "    data = f.read()\n",
        "    data_list = list(data)\n",
        "  return data_list"
      ],
      "metadata": {
        "id": "TQnK0q0o4yCL"
      },
      "execution_count": 6,
      "outputs": []
    },
    {
      "cell_type": "code",
      "source": [
        "import pickle\n",
        "import numpy as np\n",
        "import pandas as pd\n",
        "\n",
        "#Put train data and labels into numpy array and store them in a pickle file\n",
        "train_data = []\n",
        "trian_labels = []\n",
        "train_data = read_ubyte_file_to_list('train-images.idx3-ubyte')[16:]\n",
        "train_labels = read_ubyte_file_to_list('train-labels.idx1-ubyte')[8:]\n",
        "for i in range(0, len(train_data)):\n",
        "  train_data[i] = train_data[i]/255. #Converts each pixel into a number between 0 and 1\n",
        "tr_mean = np.mean(train_data) #Taking the mean of the train data\n",
        "tr_std = np.std(train_data) #Taking the standard deviation of train data\n",
        "train_data = [(x - tr_mean)/tr_std for x in train_data] #normalizing the train data\n",
        "train_data = np.array(train_data) #storing data into a numpy array\n",
        "train_data = train_data.reshape(60000,784) #Reshaping the data into image dimensions\n",
        "train_labels = np.array(train_labels) #storing the labels in a numpy array\n",
        "dict_data_train = {'data': train_data, 'labels': train_labels} #storing the images and labels in a dictionary\n",
        "pickle.dump(dict_data_train,open('mnist_train_data','wb')) #converting dictionary to a pickle file\n",
        "\n",
        "#Put test data and labels into numpy array and store them in a pickle file\n",
        "#All steps are the same from preparing the train dataset\n",
        "test_data = []\n",
        "test_labels = []\n",
        "test_data = read_ubyte_file_to_list('t10k-images.idx3-ubyte')[16:]\n",
        "test_labels = read_ubyte_file_to_list('t10k-labels.idx1-ubyte')[8:]\n",
        "for i in range(0, len(test_data)):\n",
        "  test_data[i] = test_data[i]/255.0\n",
        "test_data = [(x - tr_mean)/tr_std for x in test_data] #Use the train mean and standard deviation because the test mean and standard deviation are unknown\n",
        "test_data = np.array(test_data)\n",
        "test_data = test_data.reshape(10000,784)\n",
        "test_labels = np.array(test_labels)\n",
        "dict_data_test = {'data': test_data, 'labels': test_labels}\n",
        "pickle.dump(dict_data_test,open('mnist_test_data','wb'))"
      ],
      "metadata": {
        "id": "7ZxhqXfG2c8Z"
      },
      "execution_count": 7,
      "outputs": []
    },
    {
      "cell_type": "code",
      "source": [
        "#Creating custom dataset\n",
        "import torch.nn.functional as F\n",
        "import torch\n",
        "import torchvision\n",
        "from torch.utils.data import Dataset, DataLoader, Sampler\n",
        "class MyMNIST(Dataset):\n",
        "  def __init__(self,filename):\n",
        "    dict_data = unpickle(filename)\n",
        "    self.x = dict_data['data']\n",
        "    self.y = dict_data['labels']\n",
        "    self.x = torch.tensor(self.x,dtype=torch.float32)\n",
        "    self.y = torch.tensor(self.y,dtype=torch.long)\n",
        "\n",
        "\n",
        "  def __len__(self):\n",
        "    return len(self.x)\n",
        "\n",
        "  def __getitem__(self, idx):\n",
        "    return self.x[idx], self.y[idx]\n"
      ],
      "metadata": {
        "id": "OCHRkWYepDNb"
      },
      "execution_count": 8,
      "outputs": []
    },
    {
      "cell_type": "code",
      "source": [
        "#Importing train and test data into custom dataset.\n",
        "train_dataset = MyMNIST('mnist_train_data')\n",
        "test_dataset = MyMNIST('mnist_test_data')"
      ],
      "metadata": {
        "id": "qYpGhr3jpMtO"
      },
      "execution_count": 9,
      "outputs": []
    },
    {
      "cell_type": "code",
      "source": [
        "#Importing datasets into dataloader\n",
        "from torch.utils.data import DataLoader\n",
        "\n",
        "train_dataloader = DataLoader(train_dataset, batch_size=64, shuffle=True)\n",
        "test_dataloader = DataLoader(test_dataset, batch_size=10, shuffle=True)\n",
        "\n",
        "for X, y in test_dataloader:\n",
        "    print(f\"Shape of X [N, C, H, W]: {X.shape}\")\n",
        "    print(f\"Shape of y: {y.shape} {y.dtype}\")\n",
        "    break"
      ],
      "metadata": {
        "colab": {
          "base_uri": "https://localhost:8080/"
        },
        "id": "pmtU814Vpb6u",
        "outputId": "6fee1cdd-f2de-4171-c4f9-1931c226de86",
        "collapsed": true
      },
      "execution_count": 10,
      "outputs": [
        {
          "output_type": "stream",
          "name": "stdout",
          "text": [
            "Shape of X [N, C, H, W]: torch.Size([10, 784])\n",
            "Shape of y: torch.Size([10]) torch.int64\n"
          ]
        }
      ]
    },
    {
      "cell_type": "code",
      "source": [
        "#building the training model\n",
        "import torch\n",
        "import torch.nn as nn\n",
        "device = 'cuda' if torch.cuda.is_available() else 'cpu'\n",
        "print(f'Using {device} device')\n",
        "class MLP(nn.Module):\n",
        "    def __init__(self):\n",
        "        super().__init__()\n",
        "        self.layers = nn.Sequential(\n",
        "            nn.Linear(784, 256),\n",
        "            nn.ReLU(),\n",
        "            nn.Linear(256, 128),\n",
        "            nn.ReLU(),\n",
        "            nn.Linear(128, 10)\n",
        "        )\n",
        "\n",
        "    def forward(self, x):\n",
        "        return self.layers(x)\n",
        "\n",
        "model = MLP().to(device)\n",
        "print(model)"
      ],
      "metadata": {
        "colab": {
          "base_uri": "https://localhost:8080/"
        },
        "id": "6JGTrO7zqjdM",
        "outputId": "7a2afc71-640d-48f3-a2cd-eff0b3d240ad",
        "collapsed": true
      },
      "execution_count": 11,
      "outputs": [
        {
          "output_type": "stream",
          "name": "stdout",
          "text": [
            "Using cpu device\n",
            "MLP(\n",
            "  (layers): Sequential(\n",
            "    (0): Linear(in_features=784, out_features=256, bias=True)\n",
            "    (1): ReLU()\n",
            "    (2): Linear(in_features=256, out_features=128, bias=True)\n",
            "    (3): ReLU()\n",
            "    (4): Linear(in_features=128, out_features=10, bias=True)\n",
            "  )\n",
            ")\n"
          ]
        }
      ]
    },
    {
      "cell_type": "code",
      "source": [
        "#Defining loss function and optimizer\n",
        "criterion = nn.CrossEntropyLoss()\n",
        "optimizer = torch.optim.Adam(model.parameters())"
      ],
      "metadata": {
        "id": "QuHaSfbyqoA6"
      },
      "execution_count": 12,
      "outputs": []
    },
    {
      "cell_type": "code",
      "source": [
        "def train(data_loader, model, criterion, optimizer):\n",
        "  model.train()\n",
        "  num_batches = len(data_loader)\n",
        "  num_items = len(data_loader.dataset)\n",
        "  total_loss = 0\n",
        "  total_correct = 0\n",
        "  for data, target in data_loader:\n",
        "    #Copy data and tragets to GPU\n",
        "    data, target = data.to(device), target.to(device)\n",
        "\n",
        "    #Do a forward pass\n",
        "    output = model(data)\n",
        "\n",
        "    #Calculate Loss\n",
        "    loss = criterion(output, target)\n",
        "    total_loss += loss\n",
        "\n",
        "    #Count number of correct digits\n",
        "    total_correct += (torch.argmax(output, dim=1) == target).sum().item()\n",
        "\n",
        "    #Backpropagation\n",
        "    loss.backward()\n",
        "    optimizer.step()\n",
        "    optimizer.zero_grad()\n",
        "  #Printing the average loss and accuarcy for train data\n",
        "  train_loss = total_loss / num_batches\n",
        "  train_accuracy = total_correct / num_items\n",
        "  train_losses.append(train_loss.item())\n",
        "  print(f\"Train average loss: {train_loss:7f}, train accuracy: {train_accuracy:.2%}\")\n",
        "  #Printing the average loss and accuuracy for test data\n",
        "  num_batches_test = len(test_dataloader)\n",
        "  num_items_test = len(test_dataloader.dataset)\n",
        "  total_loss_test = 0\n",
        "  total_correct_test = 0\n",
        "  for data, target in test_dataloader:\n",
        "    data, target = data.to(device), target.to(device)\n",
        "    output = model(data)\n",
        "    loss = criterion(output, target)\n",
        "    total_loss_test += loss\n",
        "    total_correct_test += (torch.argmax(output, dim=1) == target).sum().item()\n",
        "  test_loss = total_loss_test / num_batches_test\n",
        "  test_accuracy = total_correct_test / num_items_test\n",
        "  test_losses.append(test_loss.item())\n",
        "  print(f\"Test Average loss: {test_loss:7f}, test accuracy: {test_accuracy:.2%}\")\n",
        "\n"
      ],
      "metadata": {
        "id": "0D53mQngq0tX"
      },
      "execution_count": 13,
      "outputs": []
    },
    {
      "cell_type": "code",
      "source": [
        "#Training the model\n",
        "%%time\n",
        "import matplotlib.pyplot as plt\n",
        "epochs = 8\n",
        "test_losses =[]\n",
        "train_losses=[]\n",
        "for epoch in range(epochs):\n",
        "  print(f\"Training epoch {epoch+1}\\n-------------------------------\")\n",
        "  train(train_dataloader, model, criterion, optimizer)\n",
        "plt.plot(train_losses, label='Train Loss')\n",
        "plt.plot(test_losses, label='Test Loss')\n",
        "plt.xlabel('Epoch')\n",
        "plt.ylabel('Loss')\n",
        "plt.legend()\n",
        "plt.show()"
      ],
      "metadata": {
        "colab": {
          "base_uri": "https://localhost:8080/",
          "height": 1000
        },
        "id": "3WnZsqtAq7hV",
        "outputId": "ad784bf0-dcce-4776-e064-024ab6cb41ac",
        "collapsed": true
      },
      "execution_count": 16,
      "outputs": [
        {
          "output_type": "stream",
          "name": "stdout",
          "text": [
            "Training epoch 1\n",
            "-------------------------------\n",
            "Train average loss: 0.031163, train accuracy: 98.97%\n",
            "Test Average loss: 0.086724, test accuracy: 97.60%\n",
            "Training epoch 2\n",
            "-------------------------------\n",
            "Train average loss: 0.029645, train accuracy: 99.01%\n",
            "Test Average loss: 0.086739, test accuracy: 97.64%\n",
            "Training epoch 3\n",
            "-------------------------------\n",
            "Train average loss: 0.024690, train accuracy: 99.13%\n",
            "Test Average loss: 0.100781, test accuracy: 97.38%\n",
            "Training epoch 4\n",
            "-------------------------------\n",
            "Train average loss: 0.021069, train accuracy: 99.30%\n",
            "Test Average loss: 0.100313, test accuracy: 97.70%\n",
            "Training epoch 5\n",
            "-------------------------------\n",
            "Train average loss: 0.020318, train accuracy: 99.30%\n",
            "Test Average loss: 0.093318, test accuracy: 97.85%\n",
            "Training epoch 6\n",
            "-------------------------------\n",
            "Train average loss: 0.016201, train accuracy: 99.48%\n",
            "Test Average loss: 0.096405, test accuracy: 97.94%\n",
            "Training epoch 7\n",
            "-------------------------------\n",
            "Train average loss: 0.019613, train accuracy: 99.35%\n",
            "Test Average loss: 0.093142, test accuracy: 97.68%\n",
            "Training epoch 8\n",
            "-------------------------------\n",
            "Train average loss: 0.015459, train accuracy: 99.50%\n",
            "Test Average loss: 0.110413, test accuracy: 97.62%\n"
          ]
        },
        {
          "output_type": "display_data",
          "data": {
            "text/plain": [
              "<Figure size 640x480 with 1 Axes>"
            ],
            "image/png": "[encoded data removed]"
          },
          "metadata": {}
        },
        {
          "output_type": "stream",
          "name": "stdout",
          "text": [
            "CPU times: user 48.1 s, sys: 221 ms, total: 48.4 s\n",
            "Wall time: 50.4 s\n"
          ]
        }
      ]
    },
    {
      "cell_type": "markdown",
      "source": [
        "Train accuracy = 99.5%, test accuracy = 97.62%"
      ],
      "metadata": {
        "id": "ilFVcRxK41cA"
      }
    },
    {
      "cell_type": "markdown",
      "source": [
        "![image.png](data:image/png;base64,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)"
      ],
      "metadata": {
        "id": "3IN8zWhR4vtZ"
      }
    }
  ]
}